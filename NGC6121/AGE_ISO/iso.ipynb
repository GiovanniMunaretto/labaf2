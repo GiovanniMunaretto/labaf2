{
 "cells": [
  {
   "cell_type": "markdown",
   "metadata": {},
   "source": [
    "# NOTE IMPORTANTI\n",
    "Considerato che:\n",
    "- sembra funzionare meglio l'interpolante lineare per interpolare il cmd.\n",
    "- sembra funzionare meglio l'interpolazione sui valori medi di quella sui valori mediani\n",
    "\n",
    "concluderei che **usiamo l'interpolante lineare applicata ai valori medi**."
   ]
  },
  {
   "cell_type": "code",
   "execution_count": 1,
   "metadata": {},
   "outputs": [],
   "source": [
    "import numpy as np\n",
    "import scipy.interpolate as interp\n",
    "import matplotlib\n",
    "#matplotlib.use('NBAgg')\n",
    "#matplotlib.use('wxAgg')\n",
    "%matplotlib wx\n",
    "from matplotlib import pyplot as plt\n",
    "from cursor import Cursor"
   ]
  },
  {
   "cell_type": "markdown",
   "metadata": {},
   "source": [
    "# CARICAMENTO DEI DATI E SETUP INIZIALE"
   ]
  },
  {
   "cell_type": "code",
   "execution_count": 2,
   "metadata": {},
   "outputs": [
    {
     "name": "stdout",
     "output_type": "stream",
     "text": [
      "(9666L,)\n"
     ]
    }
   ],
   "source": [
    "datacolnames = ['x','y','v','sv','i','si','sel']\n",
    "data = np.genfromtxt('./NGC6121.cal.xym',\n",
    "                     skip_header=2,\n",
    "                     names=datacolnames)\n",
    "print data.shape"
   ]
  },
  {
   "cell_type": "code",
   "execution_count": 3,
   "metadata": {},
   "outputs": [
    {
     "name": "stdout",
     "output_type": "stream",
     "text": [
      "(8503L,)\n"
     ]
    }
   ],
   "source": [
    "# estraggo il vettore delle selezioni\n",
    "sel = np.asarray(data['sel'],dtype='int') == True\n",
    "# tengo solo le stelle \"buone\", estraggo mag in v ed i, quindi calcolo v-i\n",
    "data_good = data[:][sel]\n",
    "print data_good.shape"
   ]
  },
  {
   "cell_type": "code",
   "execution_count": 4,
   "metadata": {},
   "outputs": [],
   "source": [
    "# per comodità assegno le colonne rilevanti a variabili differenti\n",
    "v = data_good['v']\n",
    "sv = data_good['sv']\n",
    "i = data_good['i']\n",
    "si = data_good['i']\n",
    "v_i = v-i"
   ]
  },
  {
   "cell_type": "markdown",
   "metadata": {},
   "source": [
    "### La cella che segue va lanciata ogni volta che la figura viene chiusa!\n",
    "Non è invece necessario lanciare tutte quelle che seguono, basta ritornare alle celle dei plot per visualizzarli."
   ]
  },
  {
   "cell_type": "code",
   "execution_count": 5,
   "metadata": {},
   "outputs": [],
   "source": [
    "# plotto il cmd\n",
    "plt.figure(figsize=(9,7))\n",
    "cmd_plot, = plt.plot(v_i,v,'k.',markersize=2,label='NGC6121',alpha=0.5)\n",
    "# inverto l'asse y\n",
    "plt.gca().invert_yaxis()\n",
    "# ottengo figura e assi correnti\n",
    "fig = plt.gcf()\n",
    "ax = plt.gca()\n",
    "# aggiungo le label agli assi ed aggiungo la legenda\n",
    "ax.set_xlabel('v-i',fontsize=14)\n",
    "ax.set_ylabel('v',fontsize=14)\n",
    "plt.legend(fontsize=13)\n",
    "# mostro il grafico\n",
    "plt.show()"
   ]
  },
  {
   "cell_type": "markdown",
   "metadata": {},
   "source": [
    "# 1) CERCO ETA' CON ISOCRONE"
   ]
  },
  {
   "cell_type": "markdown",
   "metadata": {},
   "source": [
    "### Seleziono le stelle nel MS, TO ed RGB\n",
    "**ATTENZIONE!!!!** Se sono presenti i file con i limiti in colore al cmd si saltano le celle seguenti e li si caricano."
   ]
  },
  {
   "cell_type": "code",
   "execution_count": null,
   "metadata": {},
   "outputs": [],
   "source": [
    "# seleziono il limite sinistro di MS, TO e RGB\n",
    "left_limit = Cursor(fig,ax,color='c',zoom=[1.,2.])\n",
    "left_limit.start()"
   ]
  },
  {
   "cell_type": "code",
   "execution_count": null,
   "metadata": {},
   "outputs": [],
   "source": [
    "# seleziono il limite destro di MS, TO e RGB\n",
    "right_limit = Cursor(fig,ax,color='c',zoom=[1.,2.])\n",
    "right_limit.start()"
   ]
  },
  {
   "cell_type": "code",
   "execution_count": null,
   "metadata": {},
   "outputs": [],
   "source": [
    "# estraggo tutti i punti destri e sinistri\n",
    "xl, yl = left_limit.get_x_y()\n",
    "#print xl\n",
    "#print yl\n",
    "xr, yr = right_limit.get_x_y()\n",
    "#print xr\n",
    "#print yr"
   ]
  },
  {
   "cell_type": "code",
   "execution_count": null,
   "metadata": {},
   "outputs": [],
   "source": [
    "# salvo i punti selezionati per usi futuri, anche in caso di riavvio del kernel\n",
    "# TOGLIERE I COMMENTI SOLO SE MOOOOLTO SICURI DI QUELLO CHE SI STA FACENDO\n",
    "#np.savetxt('cmd_selection_left.dat',np.column_stack((xl,yl)),header='xl \\t yl')\n",
    "#np.savetxt('cmd_selection_right.dat',np.column_stack((xr,yr)),header='xr \\t yr')"
   ]
  },
  {
   "cell_type": "code",
   "execution_count": null,
   "metadata": {},
   "outputs": [],
   "source": [
    "# carico i punti selezionati SOLO SE SERVE\n",
    "l = np.genfromtxt('cmd_selection_left.dat',skip_header=1)\n",
    "xl = l[:,0]\n",
    "yl = l[:,1]\n",
    "r = np.genfromtxt('cmd_selection_right.dat',skip_header=1)\n",
    "xr = r[:,0]\n",
    "yr = r[:,0]\n",
    "# plotto i punti SE NECESSARIO\n",
    "plt.plot(xl,yl,'c.')\n",
    "plt.plot(xr,yr,'c.')"
   ]
  },
  {
   "cell_type": "code",
   "execution_count": null,
   "metadata": {
    "scrolled": true
   },
   "outputs": [],
   "source": [
    "# costruisco l'interpolatore con i punti ottenuti con il cursore\n",
    "interp_left = interp.interp1d(yl,xl,bounds_error=False,fill_value='extrapolate')\n",
    "interp_right = interp.interp1d(yr,xr,bounds_error=False,fill_value='extrapolate')\n",
    "# mi preparo ad interpolare ordinando v ed ordino anche v_i in modo che segua v\n",
    "index_sorted = v.argsort()\n",
    "v_sorted = v[index_sorted]\n",
    "v_i_sorted = v_i[index_sorted]\n",
    "# ottengo i valori interpolati di v-i usando v\n",
    "v_i_left = interp_left(np.sort(v))\n",
    "v_i_right = interp_right(np.sort(v))"
   ]
  },
  {
   "cell_type": "code",
   "execution_count": null,
   "metadata": {
    "scrolled": true
   },
   "outputs": [],
   "source": [
    "# salvo i valori di v-i interpolati\n",
    "# TOGLIERE I COMMENTI SOLO SE MOOOOLTO SICURI DI QUELLO CHE SI STA FACENDO\n",
    "#np.savetxt('cmd_bound.dat',np.column_stack((v_i_left,v_i_right)),header='left_boundary \\t right_boundary')"
   ]
  },
  {
   "cell_type": "markdown",
   "metadata": {},
   "source": [
    "**Carico i limiti (in colore) al cmd se precedentemente salvati.**"
   ]
  },
  {
   "cell_type": "code",
   "execution_count": 5,
   "metadata": {},
   "outputs": [],
   "source": [
    "# carico i limiti al cmd\n",
    "bound = np.genfromtxt('cmd_bound.dat',skip_header=1)\n",
    "# definisco gli array appositi\n",
    "v_i_left = bound[:,0]\n",
    "v_i_right = bound[:,1]\n",
    "# ordino questi array\n",
    "index_sorted = v.argsort()\n",
    "v_sorted = v[index_sorted]\n",
    "v_i_sorted = v_i[index_sorted]"
   ]
  },
  {
   "cell_type": "code",
   "execution_count": null,
   "metadata": {},
   "outputs": [],
   "source": [
    "# plotto i punti interpolati sui valori di v [limite destro e sinistro]\n",
    "# plt.figure()\n",
    "plt.plot(v_i_left,np.sort(v),'r.',markersize=1)\n",
    "plt.plot(v_i_right,np.sort(v),'r.',markersize=1)\n",
    "plt.show()"
   ]
  },
  {
   "cell_type": "code",
   "execution_count": 6,
   "metadata": {},
   "outputs": [],
   "source": [
    "# seleziono tutti i punti entro il limite destro e sinistro\n",
    "cond_restrict = np.where((v_i_sorted>v_i_left) & (v_i_sorted<v_i_right))\n",
    "v_i_restricted = v_i_sorted[cond_restrict]\n",
    "v_restricted = v_sorted[cond_restrict]"
   ]
  },
  {
   "cell_type": "code",
   "execution_count": null,
   "metadata": {},
   "outputs": [],
   "source": [
    "# plotto i punti interni ai limiti\n",
    "#plt.figure()\n",
    "cmd_restricted_plot = plt.plot(v_i_restricted,v_restricted,'mo',markersize=4,alpha=0.2,label='points inside selection')\n",
    "plt.legend(fontsize=13)\n",
    "plt.show()"
   ]
  },
  {
   "cell_type": "code",
   "execution_count": 7,
   "metadata": {},
   "outputs": [],
   "source": [
    "# ottengo i valori MEDI del cmd lungo MS, TO e RGB\n",
    "v_mean = []\n",
    "v_sigma = []\n",
    "v_i_mean = []\n",
    "v_i_sigma = []\n",
    "mag_bin_mean = 0.1\n",
    "max_mag_mean = 21\n",
    "min_mag_mean = 12\n",
    "bin_interp_mean = 0.01\n",
    "for mag in np.arange(min_mag_mean, max_mag_mean, mag_bin_mean):\n",
    "    points_in_bin = np.where((v_restricted>mag) & (v_restricted<mag+mag_bin_mean))\n",
    "    if points_in_bin[0].shape[0] <1:\n",
    "        continue\n",
    "    v_mean.append(np.mean(v_restricted[points_in_bin]))\n",
    "    v_sigma.append(np.std(v_restricted[points_in_bin]))\n",
    "    v_i_mean.append(np.mean(v_i_restricted[points_in_bin]))\n",
    "    v_i_sigma.append(np.std(v_i_restricted[points_in_bin]))\n",
    "\n",
    "v_mean = np.array(v_mean)\n",
    "v_sigma = np.array(v_sigma)\n",
    "v_i_mean = np.array(v_i_mean)\n",
    "v_i_sigma = np.array(v_i_sigma)"
   ]
  },
  {
   "cell_type": "code",
   "execution_count": null,
   "metadata": {
    "scrolled": true
   },
   "outputs": [],
   "source": [
    "# plotto i valori appena ottenuti\n",
    "plt.plot(v_i_mean,v_mean,'r.',markersize=4)\n",
    "plt.show()"
   ]
  },
  {
   "cell_type": "code",
   "execution_count": 8,
   "metadata": {},
   "outputs": [],
   "source": [
    "# interpolo linearmente sui valori medi [APPARENTEMENTE LA SCELTA MIGLIORE]\n",
    "interp_mean = interp.interp1d(v_mean,v_i_mean,bounds_error=False,fill_value='extrapolate')\n",
    "v_interp_mean = np.arange(min_mag_mean,max_mag_mean,bin_interp_mean)\n",
    "v_i_interp_mean = interp_mean(v_interp_mean)"
   ]
  },
  {
   "cell_type": "code",
   "execution_count": null,
   "metadata": {},
   "outputs": [],
   "source": [
    "# plotto il risultato dell'interpolazione lineare sui valori medi\n",
    "#cmd_mean_plot.remove()\n",
    "cmd_mean_plot, = plt.plot(v_i_interp_mean,v_interp_mean,'r-',label='interp lin su punti medi',alpha=0.6)\n",
    "plt.legend()\n",
    "plt.show()"
   ]
  },
  {
   "cell_type": "code",
   "execution_count": null,
   "metadata": {},
   "outputs": [],
   "source": [
    "# interpolo con una spline i valori medi [NON USARE]\n",
    "spline_interp_mean = interp.splrep(v_mean,v_i_mean)\n",
    "v_spline_mean = np.arange(min_mag_mean,max_mag_mean,bin_interp_mean)\n",
    "v_i_spline_mean = interp.splev(v_spline_mean,spline_interp_mean)"
   ]
  },
  {
   "cell_type": "code",
   "execution_count": null,
   "metadata": {
    "scrolled": true
   },
   "outputs": [],
   "source": [
    "# plotto il risultato dell'interpolazione spline sui valori medi [NON USARE]\n",
    "plt.plot(v_i_spline_mean,v_spline_mean,'r-',label='interp spline su punti medi',alpha=0.6)\n",
    "plt.legend()\n",
    "plt.show()"
   ]
  },
  {
   "cell_type": "code",
   "execution_count": null,
   "metadata": {},
   "outputs": [],
   "source": [
    "# ottengo i valori MEDIANI del cmd lungo MS, TO e RGB [NON USARE]\n",
    "v_median = []\n",
    "v_percentile68 = []\n",
    "v_i_median = []\n",
    "v_i_percentile68 = []\n",
    "mag_bin_median = 0.05\n",
    "max_mag_median = 21\n",
    "min_mag_median = 12\n",
    "bin_interp_median = 0.01\n",
    "for mag in np.arange(min_mag_median, max_mag_median, mag_bin_median):\n",
    "    points_in_bin = np.where((v_restricted>mag) & (v_restricted<mag+mag_bin_median))\n",
    "    if points_in_bin[0].shape[0] <1:\n",
    "        continue\n",
    "    v_median.append(np.median(v_restricted[points_in_bin]))\n",
    "    v_percentile68.append(np.percentile(68, v_restricted[points_in_bin]))\n",
    "    v_i_median.append(np.median(v_i_restricted[points_in_bin]))\n",
    "    v_i_percentile68.append(np.percentile(68, v_i_restricted[points_in_bin]))\n",
    "\n",
    "v_median = np.array(v_median)\n",
    "v_percentile68 = np.array(v_percentile68)\n",
    "v_i_median = np.array(v_i_median)\n",
    "v_i_percentile68 = np.array(v_i_percentile68)"
   ]
  },
  {
   "cell_type": "code",
   "execution_count": null,
   "metadata": {
    "scrolled": false
   },
   "outputs": [],
   "source": [
    "# plotto i valori appena ottenuti [NON USARE]\n",
    "plt.plot(v_i_median,v_median,'g.',markersize=4)\n",
    "plt.show()"
   ]
  },
  {
   "cell_type": "code",
   "execution_count": null,
   "metadata": {},
   "outputs": [],
   "source": [
    "# interpolo linearmente i valori mediani [NON USARE]\n",
    "interp_median = interp.interp1d(v_median,v_i_median,bounds_error=False,fill_value='extrapolate')\n",
    "v_interp_median = np.arange(min_mag_median,max_mag_median,bin_interp_median)\n",
    "v_i_interp_median = interp_median(v_interp_median)"
   ]
  },
  {
   "cell_type": "code",
   "execution_count": null,
   "metadata": {},
   "outputs": [],
   "source": [
    "# plotto il risultato dell'inteprolazione lineare sui valori mediani [NON USARE]\n",
    "plt.plot(v_i_interp_median,v_interp_median,'g--',label='interp lin su punti mediani',alpha=0.6)\n",
    "plt.legend()\n",
    "plt.show()"
   ]
  },
  {
   "cell_type": "code",
   "execution_count": null,
   "metadata": {},
   "outputs": [],
   "source": [
    "# intrpolo con una spline i valori mediani [NON USARE]\n",
    "spline_interp_median = interp.splrep(v_median,v_i_median)\n",
    "v_spline_median = np.arange(min_mag_median,max_mag_median,0.01)\n",
    "v_i_spline_median = interp.splev(v_spline_median,spline_interp_median)"
   ]
  },
  {
   "cell_type": "code",
   "execution_count": null,
   "metadata": {
    "scrolled": true
   },
   "outputs": [],
   "source": [
    "# plotto il risultato dell'interpolazione spline sui valori mediani [NON USARE]\n",
    "plt.plot(v_i_spline_median,v_spline_median,'g-',label='interp spline su punti mediani',alpha=0.6)\n",
    "plt.legend()\n",
    "plt.show()"
   ]
  },
  {
   "cell_type": "markdown",
   "metadata": {},
   "source": [
    "### Confronto con le isocrone"
   ]
  },
  {
   "cell_type": "code",
   "execution_count": null,
   "metadata": {},
   "outputs": [],
   "source": [
    "# carico le isocrone\n",
    "isocolnames = ['v','i']\n",
    "iso1 = np.genfromtxt('./iso10.5.dat',\n",
    "                    skip_header=8,\n",
    "                    usecols=(7,9),\n",
    "                    names=isocolnames)\n",
    "iso2 = np.genfromtxt('./iso11.5.dat',\n",
    "                    skip_header=8,\n",
    "                    usecols=(7,9),\n",
    "                    names=isocolnames)\n",
    "iso3 = np.genfromtxt('./iso12.0.dat',\n",
    "                    skip_header=8,\n",
    "                    usecols=(7,9),\n",
    "                    names=isocolnames)\n",
    "iso4 = np.genfromtxt('./iso12.5.dat',\n",
    "                    skip_header=8,\n",
    "                    usecols=(7,9),\n",
    "                    names=isocolnames)"
   ]
  },
  {
   "cell_type": "code",
   "execution_count": null,
   "metadata": {},
   "outputs": [],
   "source": [
    "# porto le isocrone al piano osservativo\n",
    "ebv = (1-0.09)*0.35\n",
    "print \"E(B-V) =\", ebv\n",
    "modv = (1-0.015)*12.8\n",
    "print \"mod_V =\", modv\n",
    "Av = 3.1 * ebv\n",
    "print \"Av =\", Av\n",
    "Ai = 0.479 * Av\n",
    "print \"Ai =\", Ai\n",
    "mod0 = modv - Av\n",
    "print \"mod0 =\", mod0\n",
    "v1 = iso1['v'] + mod0 + Av\n",
    "i1 = iso1['i'] + mod0 + Ai\n",
    "v2 = iso2['v'] + mod0 + Av\n",
    "i2 = iso2['i'] + mod0 + Ai\n",
    "v3 = iso3['v'] + mod0 + Av\n",
    "i3 = iso3['i'] + mod0 + Ai\n",
    "v4 = iso4['v'] + mod0 + Av\n",
    "i4 = iso4['i'] + mod0 + Ai"
   ]
  },
  {
   "cell_type": "code",
   "execution_count": null,
   "metadata": {},
   "outputs": [],
   "source": [
    "# limito le isocrone al range di interesse\n",
    "sel1 = np.where((v1>12) & (v1<21))\n",
    "v1good = v1[sel1]\n",
    "i1good = i1[sel1]\n",
    "sel2 = np.where((v2>12) & (v2<21))\n",
    "v2good = v2[sel2]\n",
    "i2good = i2[sel2]\n",
    "sel3 = np.where((v3>12) & (v3<21))\n",
    "v3good = v3[sel3]\n",
    "i3good = i3[sel3]\n",
    "sel4 = np.where((v4>12) & (v4<21))\n",
    "v4good = v4[sel4]\n",
    "i4good = i4[sel4]"
   ]
  },
  {
   "cell_type": "code",
   "execution_count": null,
   "metadata": {},
   "outputs": [],
   "source": [
    "# Questa cella permette di rimuovere TUTTE le isocrone plottate (usare solo dopo aver plottato le isocrone una prima volta)\n",
    "for p in iso_plot:\n",
    "    p.remove()"
   ]
  },
  {
   "cell_type": "code",
   "execution_count": null,
   "metadata": {},
   "outputs": [],
   "source": [
    "# plotto le isocrone\n",
    "iso_plot = []\n",
    "plt.title('CMD con isocrone [E(B-V)={}] [mod_V={}]'.format(ebv,modv))\n",
    "iso_plot.append(plt.plot(v1good-i1good,v1good,'r-',label='10.5Gyr')[0])\n",
    "iso_plot.append(plt.plot(v2good-i2good,v2good,'b-',label='11.5Gyr')[0])\n",
    "iso_plot.append(plt.plot(v3good-i3good,v3good,'g-',label='12.0Gyr')[0])\n",
    "iso_plot.append(plt.plot(v4good-i4good,v4good,'y-',label='12.5Gyr')[0])\n",
    "plt.legend()\n",
    "plt.show()\n",
    "# Se il grafico viene chiuso bisogna ripartire dalla cella del CMD"
   ]
  },
  {
   "cell_type": "code",
   "execution_count": null,
   "metadata": {},
   "outputs": [],
   "source": [
    "# uso interpolatori lineari per ottenere punti da confrontare al cmd mediato\n",
    "sort1 = np.argsort(v1good)\n",
    "interp1 = interp.interp1d(v1good[sort1],v1good[sort1]-i1good[sort1],bounds_error=False,fill_value='extrapolate')\n",
    "v_i_interp1 = interp1(v_mean)\n",
    "\n",
    "sort2 = np.argsort(v2good)\n",
    "interp2 = interp.interp1d(v2good[sort2],v2good[sort2]-i2good[sort2],bounds_error=False,fill_value='extrapolate')\n",
    "v_i_interp2 = interp2(v_mean)\n",
    "\n",
    "sort3 = np.argsort(v3good)\n",
    "interp3 = interp.interp1d(v3good[sort3],v3good[sort3]-i3good[sort3],bounds_error=False,fill_value='extrapolate')\n",
    "v_i_interp3 = interp3(v_mean)\n",
    "\n",
    "sort4 = np.argsort(v4good)\n",
    "interp4 = interp.interp1d(v4good[sort4],v4good[sort4]-i4good[sort4],bounds_error=False,fill_value='extrapolate')\n",
    "v_i_interp4 = interp4(v_mean)"
   ]
  },
  {
   "cell_type": "code",
   "execution_count": null,
   "metadata": {
    "scrolled": true
   },
   "outputs": [],
   "source": [
    "sigma1 = np.linalg.norm(v_i_interp1 - v_i_mean); print '10.5Gyr ->', sigma1\n",
    "sigma2 = np.linalg.norm(v_i_interp2 - v_i_mean); print '11.5Gyr ->', sigma2\n",
    "sigma3 = np.linalg.norm(v_i_interp3 - v_i_mean); print '12.0Gyr ->', sigma3\n",
    "sigma4 = np.linalg.norm(v_i_interp4 - v_i_mean); print '12.5Gyr ->', sigma4"
   ]
  },
  {
   "cell_type": "markdown",
   "metadata": {},
   "source": [
    "# 2) METODO VERTICALE"
   ]
  },
  {
   "cell_type": "code",
   "execution_count": null,
   "metadata": {},
   "outputs": [],
   "source": [
    "# definisco ed uso un cursore per selezionare l'HB\n",
    "square = Cursor(fig,ax,'r')\n",
    "square.start()"
   ]
  },
  {
   "cell_type": "code",
   "execution_count": null,
   "metadata": {},
   "outputs": [],
   "source": [
    "x,y = square.get_x_y()\n",
    "cond = np.where((v_i>x[0]) & (v_i<x[2]) & (v>y[1]) & (v<y[3]))\n",
    "hb_v_i = v_i[cond]\n",
    "hb_v = v[cond]"
   ]
  },
  {
   "cell_type": "code",
   "execution_count": null,
   "metadata": {},
   "outputs": [],
   "source": [
    "plt.plot(hb_v_i,hb_v,'m',markersize=6)\n",
    "plt.show()"
   ]
  },
  {
   "cell_type": "code",
   "execution_count": null,
   "metadata": {},
   "outputs": [],
   "source": [
    "mean_hb_v = np.mean(hb_v)\n",
    "sigma_hb_v = np.std(hb_v)\n",
    "print 'Media:', mean_hb_v\n",
    "print 'Deviazione standard:', sigma_hb_v "
   ]
  },
  {
   "cell_type": "markdown",
   "metadata": {},
   "source": [
    "# TEST"
   ]
  },
  {
   "cell_type": "code",
   "execution_count": null,
   "metadata": {},
   "outputs": [],
   "source": [
    "import cursor\n",
    "reload(cursor)\n",
    "from cursor import Cursor"
   ]
  },
  {
   "cell_type": "code",
   "execution_count": null,
   "metadata": {},
   "outputs": [],
   "source": [
    "test_cursor = Cursor(fig,ax,color='y',zoom=[1.,2.])"
   ]
  },
  {
   "cell_type": "code",
   "execution_count": null,
   "metadata": {},
   "outputs": [],
   "source": [
    "test_cursor.start()"
   ]
  },
  {
   "cell_type": "code",
   "execution_count": null,
   "metadata": {},
   "outputs": [],
   "source": [
    "ax.set_ylim(10,12)\n",
    "ax.set_xlim(1,3)\n",
    "fig.canvas.draw()"
   ]
  },
  {
   "cell_type": "code",
   "execution_count": null,
   "metadata": {},
   "outputs": [],
   "source": [
    "np.savetxt('prova.dat',np.column_stack((xl,yl)))"
   ]
  },
  {
   "cell_type": "code",
   "execution_count": null,
   "metadata": {},
   "outputs": [],
   "source": [
    "cmd_mean_plot.remove()"
   ]
  },
  {
   "cell_type": "code",
   "execution_count": null,
   "metadata": {},
   "outputs": [],
   "source": []
  }
 ],
 "metadata": {
  "kernelspec": {
   "display_name": "Python 2",
   "language": "python",
   "name": "python2"
  },
  "language_info": {
   "codemirror_mode": {
    "name": "ipython",
    "version": 2
   },
   "file_extension": ".py",
   "mimetype": "text/x-python",
   "name": "python",
   "nbconvert_exporter": "python",
   "pygments_lexer": "ipython2",
   "version": "2.7.14"
  }
 },
 "nbformat": 4,
 "nbformat_minor": 2
}
